{
 "cells": [
  {
   "cell_type": "code",
   "execution_count": 164,
   "id": "b6852e6a",
   "metadata": {},
   "outputs": [],
   "source": [
    "import pandas as pd\n",
    "import numpy as np\n",
    "import matplotlib.pyplot as plt\n",
    "%matplotlib inline\n",
    "import seaborn as sns"
   ]
  },
  {
   "cell_type": "markdown",
   "id": "dc46492b",
   "metadata": {},
   "source": [
    "# Loading the Data"
   ]
  },
  {
   "cell_type": "code",
   "execution_count": 165,
   "id": "5de0b139",
   "metadata": {},
   "outputs": [],
   "source": [
    "d=pd.read_csv(\"D:/TASK-1/DATA/SALESDATA.csv\",low_memory=False)"
   ]
  },
  {
   "cell_type": "code",
   "execution_count": 166,
   "id": "c14426e7",
   "metadata": {},
   "outputs": [
    {
     "data": {
      "text/html": [
       "<div>\n",
       "<style scoped>\n",
       "    .dataframe tbody tr th:only-of-type {\n",
       "        vertical-align: middle;\n",
       "    }\n",
       "\n",
       "    .dataframe tbody tr th {\n",
       "        vertical-align: top;\n",
       "    }\n",
       "\n",
       "    .dataframe thead th {\n",
       "        text-align: right;\n",
       "    }\n",
       "</style>\n",
       "<table border=\"1\" class=\"dataframe\">\n",
       "  <thead>\n",
       "    <tr style=\"text-align: right;\">\n",
       "      <th></th>\n",
       "      <th>CustKey</th>\n",
       "      <th>DateKey</th>\n",
       "      <th>Discount Amount</th>\n",
       "      <th>Invoice Date</th>\n",
       "      <th>Invoice Number</th>\n",
       "      <th>Item Class</th>\n",
       "      <th>Item Number</th>\n",
       "      <th>Item</th>\n",
       "      <th>Line Number</th>\n",
       "      <th>List Price</th>\n",
       "      <th>...</th>\n",
       "      <th>Sales Cost Amount</th>\n",
       "      <th>Sales Margin Amount</th>\n",
       "      <th>Sales Price</th>\n",
       "      <th>Sales Quantity</th>\n",
       "      <th>Sales Rep</th>\n",
       "      <th>U/M</th>\n",
       "      <th>Unnamed: 20</th>\n",
       "      <th>Unnamed: 21</th>\n",
       "      <th>Unnamed: 22</th>\n",
       "      <th>Unnamed: 23</th>\n",
       "    </tr>\n",
       "  </thead>\n",
       "  <tbody>\n",
       "    <tr>\n",
       "      <th>0</th>\n",
       "      <td>10000481.0</td>\n",
       "      <td>30-04-17</td>\n",
       "      <td>-237.91</td>\n",
       "      <td>2017-04-30</td>\n",
       "      <td>100012.0</td>\n",
       "      <td>NaN</td>\n",
       "      <td>NaN</td>\n",
       "      <td>Urban Large Eggs</td>\n",
       "      <td>2000.0</td>\n",
       "      <td>0.00</td>\n",
       "      <td>...</td>\n",
       "      <td>0.0</td>\n",
       "      <td>237.91</td>\n",
       "      <td>237.910000</td>\n",
       "      <td>1.0</td>\n",
       "      <td>184.0</td>\n",
       "      <td>EA</td>\n",
       "      <td>NaN</td>\n",
       "      <td>U/M = unit of measure</td>\n",
       "      <td>NaN</td>\n",
       "      <td>NaN</td>\n",
       "    </tr>\n",
       "    <tr>\n",
       "      <th>1</th>\n",
       "      <td>10002220.0</td>\n",
       "      <td>14-07-17</td>\n",
       "      <td>368.79</td>\n",
       "      <td>2017-07-14</td>\n",
       "      <td>100233.0</td>\n",
       "      <td>P01</td>\n",
       "      <td>20910</td>\n",
       "      <td>Moms Sliced Turkey</td>\n",
       "      <td>1000.0</td>\n",
       "      <td>824.96</td>\n",
       "      <td>...</td>\n",
       "      <td>0.0</td>\n",
       "      <td>456.17</td>\n",
       "      <td>456.170000</td>\n",
       "      <td>1.0</td>\n",
       "      <td>127.0</td>\n",
       "      <td>EA</td>\n",
       "      <td>NaN</td>\n",
       "      <td>NaN</td>\n",
       "      <td>NaN</td>\n",
       "      <td>NaN</td>\n",
       "    </tr>\n",
       "    <tr>\n",
       "      <th>2</th>\n",
       "      <td>10002220.0</td>\n",
       "      <td>17-10-17</td>\n",
       "      <td>109.73</td>\n",
       "      <td>2017-10-17</td>\n",
       "      <td>116165.0</td>\n",
       "      <td>P01</td>\n",
       "      <td>38076</td>\n",
       "      <td>Cutting Edge Foot-Long Hot Dogs</td>\n",
       "      <td>1000.0</td>\n",
       "      <td>548.66</td>\n",
       "      <td>...</td>\n",
       "      <td>0.0</td>\n",
       "      <td>438.93</td>\n",
       "      <td>438.930000</td>\n",
       "      <td>1.0</td>\n",
       "      <td>127.0</td>\n",
       "      <td>EA</td>\n",
       "      <td>NaN</td>\n",
       "      <td>EA = each</td>\n",
       "      <td>NaN</td>\n",
       "      <td>NaN</td>\n",
       "    </tr>\n",
       "    <tr>\n",
       "      <th>3</th>\n",
       "      <td>10002489.0</td>\n",
       "      <td>03-06-17</td>\n",
       "      <td>-211.75</td>\n",
       "      <td>2017-06-03</td>\n",
       "      <td>100096.0</td>\n",
       "      <td>NaN</td>\n",
       "      <td>NaN</td>\n",
       "      <td>Kiwi Lox</td>\n",
       "      <td>1000.0</td>\n",
       "      <td>0.00</td>\n",
       "      <td>...</td>\n",
       "      <td>0.0</td>\n",
       "      <td>211.75</td>\n",
       "      <td>211.750000</td>\n",
       "      <td>1.0</td>\n",
       "      <td>160.0</td>\n",
       "      <td>EA</td>\n",
       "      <td>NaN</td>\n",
       "      <td>NaN</td>\n",
       "      <td>NaN</td>\n",
       "      <td>NaN</td>\n",
       "    </tr>\n",
       "    <tr>\n",
       "      <th>4</th>\n",
       "      <td>10004516.0</td>\n",
       "      <td>27-05-17</td>\n",
       "      <td>96627.94</td>\n",
       "      <td>2017-05-27</td>\n",
       "      <td>103341.0</td>\n",
       "      <td>P01</td>\n",
       "      <td>60776</td>\n",
       "      <td>High Top Sweet Onion</td>\n",
       "      <td>1000.0</td>\n",
       "      <td>408.52</td>\n",
       "      <td>...</td>\n",
       "      <td>0.0</td>\n",
       "      <td>89248.66</td>\n",
       "      <td>196.150901</td>\n",
       "      <td>455.0</td>\n",
       "      <td>124.0</td>\n",
       "      <td>SE</td>\n",
       "      <td>NaN</td>\n",
       "      <td>SE = some SI unit like kgs or gallons</td>\n",
       "      <td>NaN</td>\n",
       "      <td>NaN</td>\n",
       "    </tr>\n",
       "  </tbody>\n",
       "</table>\n",
       "<p>5 rows × 24 columns</p>\n",
       "</div>"
      ],
      "text/plain": [
       "      CustKey   DateKey  Discount Amount Invoice Date  Invoice Number  \\\n",
       "0  10000481.0  30-04-17          -237.91   2017-04-30        100012.0   \n",
       "1  10002220.0  14-07-17           368.79   2017-07-14        100233.0   \n",
       "2  10002220.0  17-10-17           109.73   2017-10-17        116165.0   \n",
       "3  10002489.0  03-06-17          -211.75   2017-06-03        100096.0   \n",
       "4  10004516.0  27-05-17         96627.94   2017-05-27        103341.0   \n",
       "\n",
       "  Item Class Item Number                             Item  Line Number  \\\n",
       "0        NaN         NaN                 Urban Large Eggs       2000.0   \n",
       "1        P01       20910               Moms Sliced Turkey       1000.0   \n",
       "2        P01       38076  Cutting Edge Foot-Long Hot Dogs       1000.0   \n",
       "3        NaN         NaN                         Kiwi Lox       1000.0   \n",
       "4        P01       60776             High Top Sweet Onion       1000.0   \n",
       "\n",
       "   List Price  ...  Sales Cost Amount Sales Margin Amount  Sales Price  \\\n",
       "0        0.00  ...                0.0              237.91   237.910000   \n",
       "1      824.96  ...                0.0              456.17   456.170000   \n",
       "2      548.66  ...                0.0              438.93   438.930000   \n",
       "3        0.00  ...                0.0              211.75   211.750000   \n",
       "4      408.52  ...                0.0            89248.66   196.150901   \n",
       "\n",
       "   Sales Quantity  Sales Rep  U/M  Unnamed: 20  \\\n",
       "0             1.0      184.0   EA          NaN   \n",
       "1             1.0      127.0   EA          NaN   \n",
       "2             1.0      127.0   EA          NaN   \n",
       "3             1.0      160.0   EA          NaN   \n",
       "4           455.0      124.0   SE          NaN   \n",
       "\n",
       "                             Unnamed: 21  Unnamed: 22 Unnamed: 23  \n",
       "0                  U/M = unit of measure          NaN         NaN  \n",
       "1                                    NaN          NaN         NaN  \n",
       "2                              EA = each          NaN         NaN  \n",
       "3                                    NaN          NaN         NaN  \n",
       "4  SE = some SI unit like kgs or gallons          NaN         NaN  \n",
       "\n",
       "[5 rows x 24 columns]"
      ]
     },
     "execution_count": 166,
     "metadata": {},
     "output_type": "execute_result"
    }
   ],
   "source": [
    "d.head()"
   ]
  },
  {
   "cell_type": "markdown",
   "id": "2be00db4",
   "metadata": {},
   "source": [
    "## EXPLORATORY DATA ANALYSIS(EDA)"
   ]
  },
  {
   "cell_type": "code",
   "execution_count": 167,
   "id": "724bfaa2",
   "metadata": {},
   "outputs": [
    {
     "data": {
      "text/plain": [
       "(65535, 24)"
      ]
     },
     "execution_count": 167,
     "metadata": {},
     "output_type": "execute_result"
    }
   ],
   "source": [
    "d.shape"
   ]
  },
  {
   "cell_type": "code",
   "execution_count": 168,
   "id": "4160a192",
   "metadata": {},
   "outputs": [
    {
     "data": {
      "text/plain": [
       "Index(['CustKey', 'DateKey', 'Discount Amount', 'Invoice Date',\n",
       "       'Invoice Number', 'Item Class', 'Item Number', 'Item', 'Line Number',\n",
       "       'List Price', 'Order Number', 'Promised Delivery Date', 'Sales Amount',\n",
       "       'Sales Amount Based on List Price', 'Sales Cost Amount',\n",
       "       'Sales Margin Amount', 'Sales Price', 'Sales Quantity', 'Sales Rep',\n",
       "       'U/M', 'Unnamed: 20', 'Unnamed: 21', 'Unnamed: 22', 'Unnamed: 23'],\n",
       "      dtype='object')"
      ]
     },
     "execution_count": 168,
     "metadata": {},
     "output_type": "execute_result"
    }
   ],
   "source": [
    "d.columns"
   ]
  },
  {
   "cell_type": "code",
   "execution_count": 169,
   "id": "e1180cfe",
   "metadata": {},
   "outputs": [],
   "source": [
    "d.drop(['Unnamed: 20','Unnamed: 21','Unnamed: 22','Unnamed: 23'],axis=1,inplace=True)"
   ]
  },
  {
   "cell_type": "code",
   "execution_count": 170,
   "id": "d6df9acd",
   "metadata": {},
   "outputs": [
    {
     "data": {
      "text/plain": [
       "Index(['CustKey', 'DateKey', 'Discount Amount', 'Invoice Date',\n",
       "       'Invoice Number', 'Item Class', 'Item Number', 'Item', 'Line Number',\n",
       "       'List Price', 'Order Number', 'Promised Delivery Date', 'Sales Amount',\n",
       "       'Sales Amount Based on List Price', 'Sales Cost Amount',\n",
       "       'Sales Margin Amount', 'Sales Price', 'Sales Quantity', 'Sales Rep',\n",
       "       'U/M'],\n",
       "      dtype='object')"
      ]
     },
     "execution_count": 170,
     "metadata": {},
     "output_type": "execute_result"
    }
   ],
   "source": [
    "d.columns"
   ]
  },
  {
   "cell_type": "code",
   "execution_count": 171,
   "id": "7ee8157e",
   "metadata": {},
   "outputs": [
    {
     "data": {
      "text/plain": [
       "CustKey                              253\n",
       "DateKey                              253\n",
       "Discount Amount                      255\n",
       "Invoice Date                         253\n",
       "Invoice Number                       253\n",
       "Item Class                          8542\n",
       "Item Number                          294\n",
       "Item                                 253\n",
       "Line Number                          253\n",
       "List Price                           253\n",
       "Order Number                         253\n",
       "Promised Delivery Date               253\n",
       "Sales Amount                         253\n",
       "Sales Amount Based on List Price     253\n",
       "Sales Cost Amount                    253\n",
       "Sales Margin Amount                  253\n",
       "Sales Price                          254\n",
       "Sales Quantity                       253\n",
       "Sales Rep                            253\n",
       "U/M                                  253\n",
       "dtype: int64"
      ]
     },
     "execution_count": 171,
     "metadata": {},
     "output_type": "execute_result"
    }
   ],
   "source": [
    "# Checking for NULL Values\n",
    "\n",
    "d.isnull().sum()"
   ]
  },
  {
   "cell_type": "code",
   "execution_count": 172,
   "id": "b51b7084",
   "metadata": {},
   "outputs": [
    {
     "name": "stdout",
     "output_type": "stream",
     "text": [
      "<class 'pandas.core.frame.DataFrame'>\n",
      "RangeIndex: 65535 entries, 0 to 65534\n",
      "Data columns (total 20 columns):\n",
      " #   Column                            Non-Null Count  Dtype  \n",
      "---  ------                            --------------  -----  \n",
      " 0   CustKey                           65282 non-null  float64\n",
      " 1   DateKey                           65282 non-null  object \n",
      " 2   Discount Amount                   65280 non-null  float64\n",
      " 3   Invoice Date                      65282 non-null  object \n",
      " 4   Invoice Number                    65282 non-null  float64\n",
      " 5   Item Class                        56993 non-null  object \n",
      " 6   Item Number                       65241 non-null  object \n",
      " 7   Item                              65282 non-null  object \n",
      " 8   Line Number                       65282 non-null  float64\n",
      " 9   List Price                        65282 non-null  float64\n",
      " 10  Order Number                      65282 non-null  float64\n",
      " 11  Promised Delivery Date            65282 non-null  object \n",
      " 12  Sales Amount                      65282 non-null  float64\n",
      " 13  Sales Amount Based on List Price  65282 non-null  float64\n",
      " 14  Sales Cost Amount                 65282 non-null  float64\n",
      " 15  Sales Margin Amount               65282 non-null  float64\n",
      " 16  Sales Price                       65281 non-null  float64\n",
      " 17  Sales Quantity                    65282 non-null  float64\n",
      " 18  Sales Rep                         65282 non-null  float64\n",
      " 19  U/M                               65282 non-null  object \n",
      "dtypes: float64(13), object(7)\n",
      "memory usage: 10.0+ MB\n"
     ]
    }
   ],
   "source": [
    "d.info()"
   ]
  },
  {
   "cell_type": "code",
   "execution_count": 173,
   "id": "fd11f42d",
   "metadata": {},
   "outputs": [
    {
     "data": {
      "text/plain": [
       "Index(['CustKey', 'DateKey', 'Discount Amount', 'Invoice Date',\n",
       "       'Invoice Number', 'Item Class', 'Item Number', 'Item', 'Line Number',\n",
       "       'List Price', 'Order Number', 'Promised Delivery Date', 'Sales Amount',\n",
       "       'Sales Amount Based on List Price', 'Sales Cost Amount',\n",
       "       'Sales Margin Amount', 'Sales Price', 'Sales Quantity', 'Sales Rep',\n",
       "       'U/M'],\n",
       "      dtype='object')"
      ]
     },
     "execution_count": 173,
     "metadata": {},
     "output_type": "execute_result"
    }
   ],
   "source": [
    "d.columns"
   ]
  },
  {
   "cell_type": "code",
   "execution_count": 174,
   "id": "04748556",
   "metadata": {},
   "outputs": [
    {
     "name": "stdout",
     "output_type": "stream",
     "text": [
      "[nan 'P01' 'PO1']\n",
      "P01    56977\n",
      "PO1       16\n",
      "Name: Item Class, dtype: int64\n"
     ]
    }
   ],
   "source": [
    "print(d['Item Class'].unique())\n",
    "print(d['Item Class'].value_counts())"
   ]
  },
  {
   "cell_type": "code",
   "execution_count": 175,
   "id": "b58828f0",
   "metadata": {},
   "outputs": [],
   "source": [
    "#Droping Item class feature since contains more number of nan values and single class have more values\n",
    "\n",
    "d.drop('Item Class',axis=1,inplace=True)"
   ]
  },
  {
   "cell_type": "code",
   "execution_count": 176,
   "id": "70a4a48d",
   "metadata": {},
   "outputs": [
    {
     "data": {
      "text/plain": [
       "Index(['CustKey', 'DateKey', 'Discount Amount', 'Invoice Date',\n",
       "       'Invoice Number', 'Item Number', 'Item', 'Line Number', 'List Price',\n",
       "       'Order Number', 'Promised Delivery Date', 'Sales Amount',\n",
       "       'Sales Amount Based on List Price', 'Sales Cost Amount',\n",
       "       'Sales Margin Amount', 'Sales Price', 'Sales Quantity', 'Sales Rep',\n",
       "       'U/M'],\n",
       "      dtype='object')"
      ]
     },
     "execution_count": 176,
     "metadata": {},
     "output_type": "execute_result"
    }
   ],
   "source": [
    "d.columns"
   ]
  },
  {
   "cell_type": "code",
   "execution_count": 177,
   "id": "42bf880c",
   "metadata": {},
   "outputs": [
    {
     "data": {
      "text/plain": [
       "CustKey                             253\n",
       "DateKey                             253\n",
       "Discount Amount                     255\n",
       "Invoice Date                        253\n",
       "Invoice Number                      253\n",
       "Item Number                         294\n",
       "Item                                253\n",
       "Line Number                         253\n",
       "List Price                          253\n",
       "Order Number                        253\n",
       "Promised Delivery Date              253\n",
       "Sales Amount                        253\n",
       "Sales Amount Based on List Price    253\n",
       "Sales Cost Amount                   253\n",
       "Sales Margin Amount                 253\n",
       "Sales Price                         254\n",
       "Sales Quantity                      253\n",
       "Sales Rep                           253\n",
       "U/M                                 253\n",
       "dtype: int64"
      ]
     },
     "execution_count": 177,
     "metadata": {},
     "output_type": "execute_result"
    }
   ],
   "source": [
    "d.isnull().sum()"
   ]
  },
  {
   "cell_type": "code",
   "execution_count": 178,
   "id": "4fc52874",
   "metadata": {},
   "outputs": [],
   "source": [
    "# Droping the records having Nan values\n",
    "\n",
    "d.dropna(axis=0,inplace=True)\n",
    "\n"
   ]
  },
  {
   "cell_type": "code",
   "execution_count": 179,
   "id": "65ab3901",
   "metadata": {},
   "outputs": [
    {
     "data": {
      "text/plain": [
       "CustKey                             0\n",
       "DateKey                             0\n",
       "Discount Amount                     0\n",
       "Invoice Date                        0\n",
       "Invoice Number                      0\n",
       "Item Number                         0\n",
       "Item                                0\n",
       "Line Number                         0\n",
       "List Price                          0\n",
       "Order Number                        0\n",
       "Promised Delivery Date              0\n",
       "Sales Amount                        0\n",
       "Sales Amount Based on List Price    0\n",
       "Sales Cost Amount                   0\n",
       "Sales Margin Amount                 0\n",
       "Sales Price                         0\n",
       "Sales Quantity                      0\n",
       "Sales Rep                           0\n",
       "U/M                                 0\n",
       "dtype: int64"
      ]
     },
     "execution_count": 179,
     "metadata": {},
     "output_type": "execute_result"
    }
   ],
   "source": [
    "d.isnull().sum()"
   ]
  },
  {
   "cell_type": "code",
   "execution_count": 180,
   "id": "8353cb8a",
   "metadata": {},
   "outputs": [
    {
     "data": {
      "text/plain": [
       "(65241, 19)"
      ]
     },
     "execution_count": 180,
     "metadata": {},
     "output_type": "execute_result"
    }
   ],
   "source": [
    "d.shape"
   ]
  },
  {
   "cell_type": "markdown",
   "id": "1483e61c",
   "metadata": {},
   "source": [
    "## UNIVARIANT ANALYSIS"
   ]
  },
  {
   "cell_type": "code",
   "execution_count": 181,
   "id": "aeb159d4",
   "metadata": {},
   "outputs": [
    {
     "data": {
      "text/plain": [
       "Index(['CustKey', 'DateKey', 'Discount Amount', 'Invoice Date',\n",
       "       'Invoice Number', 'Item Number', 'Item', 'Line Number', 'List Price',\n",
       "       'Order Number', 'Promised Delivery Date', 'Sales Amount',\n",
       "       'Sales Amount Based on List Price', 'Sales Cost Amount',\n",
       "       'Sales Margin Amount', 'Sales Price', 'Sales Quantity', 'Sales Rep',\n",
       "       'U/M'],\n",
       "      dtype='object')"
      ]
     },
     "execution_count": 181,
     "metadata": {},
     "output_type": "execute_result"
    }
   ],
   "source": [
    "d.columns"
   ]
  },
  {
   "cell_type": "code",
   "execution_count": 182,
   "id": "a9415677",
   "metadata": {},
   "outputs": [],
   "source": [
    "#Custkey\n",
    "\n",
    "d['CustKey'].astype('int')\n",
    "\n",
    "c=d['CustKey'].value_counts().head(10)\n",
    "\n"
   ]
  },
  {
   "cell_type": "code",
   "execution_count": 224,
   "id": "adf92eb7",
   "metadata": {},
   "outputs": [
    {
     "data": {
      "image/png": "[encoded data removed]",
      "text/plain": [
       "<Figure size 576x576 with 1 Axes>"
      ]
     },
     "metadata": {
      "needs_background": "light"
     },
     "output_type": "display_data"
    }
   ],
   "source": [
    "plt.figure(figsize=(8,8))\n",
    "\n",
    "sns.barplot(x=c.index,y=c,data=d)\n",
    "\n",
    "plt.xticks(rotation=45)\n",
    "\n",
    "plt.title('Top 10 Customers-Keys Involved in more Transactions',fontdict={'family':'serif','color':'green','size':20})\n",
    "\n",
    "plt.show()"
   ]
  },
  {
   "cell_type": "code",
   "execution_count": 184,
   "id": "728acf77",
   "metadata": {},
   "outputs": [
    {
     "data": {
      "text/plain": [
       "23-06-17    460\n",
       "05-07-19    447\n",
       "27-06-17    313\n",
       "18-11-17    313\n",
       "11-01-17    310\n",
       "           ... \n",
       "08-02-19     23\n",
       "03-07-19      7\n",
       "21-06-17      7\n",
       "07-06-17      3\n",
       "19-06-19      3\n",
       "Name: DateKey, Length: 558, dtype: int64"
      ]
     },
     "execution_count": 184,
     "metadata": {},
     "output_type": "execute_result"
    }
   ],
   "source": [
    "#DateKey \n",
    "\n",
    "d['DateKey'].value_counts()"
   ]
  },
  {
   "cell_type": "code",
   "execution_count": 185,
   "id": "48f1fd86",
   "metadata": {},
   "outputs": [
    {
     "data": {
      "image/png": "[encoded data removed]",
      "text/plain": [
       "<Figure size 576x576 with 1 Axes>"
      ]
     },
     "metadata": {
      "needs_background": "light"
     },
     "output_type": "display_data"
    }
   ],
   "source": [
    "d['DateKey'] = pd.to_datetime(d['DateKey'])\n",
    "\n",
    "date=d['DateKey'].value_counts().head(10)\n",
    "\n",
    "plt.figure(figsize=(8,8))\n",
    "\n",
    "sns.barplot(x=date.index,y=date)\n",
    "\n",
    "plt.xticks(rotation=45)\n",
    "\n",
    "plt.title('Top 10 Dates with more Transactions',fontdict={'family':'serif','color':'blue','size':20})\n",
    "\n",
    "plt.show()"
   ]
  },
  {
   "cell_type": "code",
   "execution_count": 186,
   "id": "2c921fb4",
   "metadata": {},
   "outputs": [
    {
     "data": {
      "text/plain": [
       "Index(['CustKey', 'DateKey', 'Discount Amount', 'Invoice Date',\n",
       "       'Invoice Number', 'Item Number', 'Item', 'Line Number', 'List Price',\n",
       "       'Order Number', 'Promised Delivery Date', 'Sales Amount',\n",
       "       'Sales Amount Based on List Price', 'Sales Cost Amount',\n",
       "       'Sales Margin Amount', 'Sales Price', 'Sales Quantity', 'Sales Rep',\n",
       "       'U/M'],\n",
       "      dtype='object')"
      ]
     },
     "execution_count": 186,
     "metadata": {},
     "output_type": "execute_result"
    }
   ],
   "source": [
    "d.columns"
   ]
  },
  {
   "cell_type": "code",
   "execution_count": 252,
   "id": "9e59d20c",
   "metadata": {},
   "outputs": [
    {
     "name": "stderr",
     "output_type": "stream",
     "text": [
      "C:\\Users\\Haseena\\New folder\\envs\\tensorflow\\lib\\site-packages\\seaborn\\distributions.py:2557: FutureWarning: `distplot` is a deprecated function and will be removed in a future version. Please adapt your code to use either `displot` (a figure-level function with similar flexibility) or `histplot` (an axes-level function for histograms).\n",
      "  warnings.warn(msg, FutureWarning)\n"
     ]
    },
    {
     "data": {
      "image/png": "[encoded data removed]",
      "text/plain": [
       "<Figure size 720x720 with 1 Axes>"
      ]
     },
     "metadata": {
      "needs_background": "light"
     },
     "output_type": "display_data"
    },
    {
     "name": "stdout",
     "output_type": "stream",
     "text": [
      "count     65241.000000\n",
      "mean       1857.310923\n",
      "std        9039.535784\n",
      "min     -255820.800000\n",
      "25%         246.280000\n",
      "50%         442.200000\n",
      "75%        1001.500000\n",
      "max      343532.660000\n",
      "Name: Discount Amount, dtype: float64\n"
     ]
    }
   ],
   "source": [
    "#Discount Amount\n",
    "\n",
    "plt.figure(figsize=(10,10))\n",
    "\n",
    "d['Discount Amount'].describe()\n",
    "\n",
    "sns.distplot(d['Discount Amount'])\n",
    "\n",
    "\n",
    "plt.title('Distribution of Discount',fontdict={'family':'serif','color':'brown','size':20})\n",
    "\n",
    "\n",
    "\n",
    "plt.show()\n",
    "\n",
    "a=d['Discount Amount'].describe()\n",
    "\n",
    "print(a)\n"
   ]
  },
  {
   "cell_type": "code",
   "execution_count": 253,
   "id": "180d306f",
   "metadata": {},
   "outputs": [
    {
     "data": {
      "image/png": "[encoded data removed]",
      "text/plain": [
       "<Figure size 576x576 with 1 Axes>"
      ]
     },
     "metadata": {
      "needs_background": "light"
     },
     "output_type": "display_data"
    }
   ],
   "source": [
    "#InVoice Date\n",
    "\n",
    "Invoice=d['Invoice Date'].value_counts().head(10)\n",
    "\n",
    "plt.figure(figsize=(8,8))\n",
    "\n",
    "sns.barplot(x=Invoice.index,y=Invoice)\n",
    "\n",
    "plt.xticks(rotation=45)\n",
    "\n",
    "plt.title('Top 10 Invoice-Dates with more Transactions',fontdict={'family':'serif','color':'purple','size':20})\n",
    "\n",
    "plt.show()"
   ]
  },
  {
   "cell_type": "code",
   "execution_count": 189,
   "id": "22a0e500",
   "metadata": {},
   "outputs": [
    {
     "data": {
      "text/plain": [
       "Index(['CustKey', 'DateKey', 'Discount Amount', 'Invoice Date',\n",
       "       'Invoice Number', 'Item Number', 'Item', 'Line Number', 'List Price',\n",
       "       'Order Number', 'Promised Delivery Date', 'Sales Amount',\n",
       "       'Sales Amount Based on List Price', 'Sales Cost Amount',\n",
       "       'Sales Margin Amount', 'Sales Price', 'Sales Quantity', 'Sales Rep',\n",
       "       'U/M'],\n",
       "      dtype='object')"
      ]
     },
     "execution_count": 189,
     "metadata": {},
     "output_type": "execute_result"
    }
   ],
   "source": [
    "d.columns"
   ]
  },
  {
   "cell_type": "code",
   "execution_count": 255,
   "id": "923754b2",
   "metadata": {},
   "outputs": [
    {
     "data": {
      "image/png": "[encoded data removed]",
      "text/plain": [
       "<Figure size 576x576 with 1 Axes>"
      ]
     },
     "metadata": {
      "needs_background": "light"
     },
     "output_type": "display_data"
    }
   ],
   "source": [
    "#Item Number\n",
    "\n",
    "Item=d['Item Number'].value_counts().head(10)\n",
    "\n",
    "plt.figure(figsize=(8,8))\n",
    "\n",
    "sns.barplot(x=Item.index,y=Item)\n",
    "\n",
    "plt.xticks(rotation=45)\n",
    "\n",
    "plt.title('Top 10 Item Numbers Involved in Transactions',fontdict={'family':'serif','color':'green','size':20})\n",
    "\n",
    "plt.show()"
   ]
  },
  {
   "cell_type": "code",
   "execution_count": 191,
   "id": "c3aa9560",
   "metadata": {},
   "outputs": [
    {
     "data": {
      "text/plain": [
       "Index(['CustKey', 'DateKey', 'Discount Amount', 'Invoice Date',\n",
       "       'Invoice Number', 'Item Number', 'Item', 'Line Number', 'List Price',\n",
       "       'Order Number', 'Promised Delivery Date', 'Sales Amount',\n",
       "       'Sales Amount Based on List Price', 'Sales Cost Amount',\n",
       "       'Sales Margin Amount', 'Sales Price', 'Sales Quantity', 'Sales Rep',\n",
       "       'U/M'],\n",
       "      dtype='object')"
      ]
     },
     "execution_count": 191,
     "metadata": {},
     "output_type": "execute_result"
    }
   ],
   "source": [
    "d.columns"
   ]
  },
  {
   "cell_type": "code",
   "execution_count": 257,
   "id": "6d72c448",
   "metadata": {},
   "outputs": [
    {
     "data": {
      "image/png": "[encoded data removed]",
      "text/plain": [
       "<Figure size 576x576 with 1 Axes>"
      ]
     },
     "metadata": {
      "needs_background": "light"
     },
     "output_type": "display_data"
    }
   ],
   "source": [
    "#Item\n",
    "\n",
    "i=d['Item'].value_counts().head(10)\n",
    "\n",
    "plt.figure(figsize=(8,8))\n",
    "\n",
    "sns.barplot(y=i.index,x=i)\n",
    "\n",
    "plt.xticks(rotation=90)\n",
    "\n",
    "plt.title('Top 10 Items Involved in the Transactions',fontdict={'family':'serif','color':'blue','size':20})\n",
    "\n",
    "plt.show()"
   ]
  },
  {
   "cell_type": "code",
   "execution_count": 193,
   "id": "2daf10b3",
   "metadata": {},
   "outputs": [
    {
     "data": {
      "text/plain": [
       "Index(['CustKey', 'DateKey', 'Discount Amount', 'Invoice Date',\n",
       "       'Invoice Number', 'Item Number', 'Item', 'Line Number', 'List Price',\n",
       "       'Order Number', 'Promised Delivery Date', 'Sales Amount',\n",
       "       'Sales Amount Based on List Price', 'Sales Cost Amount',\n",
       "       'Sales Margin Amount', 'Sales Price', 'Sales Quantity', 'Sales Rep',\n",
       "       'U/M'],\n",
       "      dtype='object')"
      ]
     },
     "execution_count": 193,
     "metadata": {},
     "output_type": "execute_result"
    }
   ],
   "source": [
    "d.columns"
   ]
  },
  {
   "cell_type": "code",
   "execution_count": 194,
   "id": "1356b9c6",
   "metadata": {},
   "outputs": [
    {
     "data": {
      "image/png": "[encoded data removed]",
      "text/plain": [
       "<Figure size 576x576 with 1 Axes>"
      ]
     },
     "metadata": {
      "needs_background": "light"
     },
     "output_type": "display_data"
    }
   ],
   "source": [
    "#Line Number\n",
    "\n",
    "l=d['Line Number'].value_counts().head(10)\n",
    "\n",
    "plt.figure(figsize=(8,8))\n",
    "\n",
    "sns.barplot(x=l.index,y=l)\n",
    "\n",
    "plt.xticks(rotation=45)\n",
    "\n",
    "plt.show()"
   ]
  },
  {
   "cell_type": "code",
   "execution_count": 195,
   "id": "542bd4d4",
   "metadata": {},
   "outputs": [
    {
     "data": {
      "text/plain": [
       "Index(['CustKey', 'DateKey', 'Discount Amount', 'Invoice Date',\n",
       "       'Invoice Number', 'Item Number', 'Item', 'Line Number', 'List Price',\n",
       "       'Order Number', 'Promised Delivery Date', 'Sales Amount',\n",
       "       'Sales Amount Based on List Price', 'Sales Cost Amount',\n",
       "       'Sales Margin Amount', 'Sales Price', 'Sales Quantity', 'Sales Rep',\n",
       "       'U/M'],\n",
       "      dtype='object')"
      ]
     },
     "execution_count": 195,
     "metadata": {},
     "output_type": "execute_result"
    }
   ],
   "source": [
    "d.columns"
   ]
  },
  {
   "cell_type": "code",
   "execution_count": 196,
   "id": "5eb91047",
   "metadata": {},
   "outputs": [
    {
     "data": {
      "text/plain": [
       "count    65241.000000\n",
       "mean       515.016834\n",
       "std        449.144896\n",
       "min          0.000000\n",
       "25%        181.560000\n",
       "50%        325.190000\n",
       "75%        803.860000\n",
       "max       2760.700000\n",
       "Name: List Price, dtype: float64"
      ]
     },
     "execution_count": 196,
     "metadata": {},
     "output_type": "execute_result"
    }
   ],
   "source": [
    "#List Price\n",
    "\n",
    "d['List Price'].describe()"
   ]
  },
  {
   "cell_type": "code",
   "execution_count": 197,
   "id": "8aefbe2f",
   "metadata": {},
   "outputs": [
    {
     "data": {
      "text/plain": [
       "Index(['CustKey', 'DateKey', 'Discount Amount', 'Invoice Date',\n",
       "       'Invoice Number', 'Item Number', 'Item', 'Line Number', 'List Price',\n",
       "       'Order Number', 'Promised Delivery Date', 'Sales Amount',\n",
       "       'Sales Amount Based on List Price', 'Sales Cost Amount',\n",
       "       'Sales Margin Amount', 'Sales Price', 'Sales Quantity', 'Sales Rep',\n",
       "       'U/M'],\n",
       "      dtype='object')"
      ]
     },
     "execution_count": 197,
     "metadata": {},
     "output_type": "execute_result"
    }
   ],
   "source": [
    "d.columns"
   ]
  },
  {
   "cell_type": "code",
   "execution_count": 198,
   "id": "85558104",
   "metadata": {},
   "outputs": [
    {
     "data": {
      "image/png": "[encoded data removed]",
      "text/plain": [
       "<Figure size 576x576 with 1 Axes>"
      ]
     },
     "metadata": {
      "needs_background": "light"
     },
     "output_type": "display_data"
    }
   ],
   "source": [
    "# Order Number\n",
    "\n",
    "o=d['Order Number'].value_counts().head(10)\n",
    "\n",
    "plt.figure(figsize=(8,8))\n",
    "\n",
    "sns.barplot(x=o.index,y=o)\n",
    "\n",
    "plt.xticks(rotation=45)\n",
    "\n",
    "plt.show()"
   ]
  },
  {
   "cell_type": "code",
   "execution_count": 199,
   "id": "1e98cef6",
   "metadata": {},
   "outputs": [
    {
     "data": {
      "text/plain": [
       "Index(['CustKey', 'DateKey', 'Discount Amount', 'Invoice Date',\n",
       "       'Invoice Number', 'Item Number', 'Item', 'Line Number', 'List Price',\n",
       "       'Order Number', 'Promised Delivery Date', 'Sales Amount',\n",
       "       'Sales Amount Based on List Price', 'Sales Cost Amount',\n",
       "       'Sales Margin Amount', 'Sales Price', 'Sales Quantity', 'Sales Rep',\n",
       "       'U/M'],\n",
       "      dtype='object')"
      ]
     },
     "execution_count": 199,
     "metadata": {},
     "output_type": "execute_result"
    }
   ],
   "source": [
    "d.columns"
   ]
  },
  {
   "cell_type": "code",
   "execution_count": 200,
   "id": "ec4af5b3",
   "metadata": {},
   "outputs": [
    {
     "data": {
      "image/png": "[encoded data removed]",
      "text/plain": [
       "<Figure size 576x576 with 1 Axes>"
      ]
     },
     "metadata": {
      "needs_background": "light"
     },
     "output_type": "display_data"
    }
   ],
   "source": [
    "#Promised Delivery\n",
    "\n",
    "p=d['Promised Delivery Date'].value_counts().head(10)\n",
    "\n",
    "plt.figure(figsize=(8,8))\n",
    "\n",
    "sns.barplot(x=p.index,y=p)\n",
    "\n",
    "plt.xticks(rotation=45)\n",
    "\n",
    "plt.show()"
   ]
  },
  {
   "cell_type": "code",
   "execution_count": 201,
   "id": "321b72df",
   "metadata": {},
   "outputs": [
    {
     "data": {
      "text/plain": [
       "Index(['CustKey', 'DateKey', 'Discount Amount', 'Invoice Date',\n",
       "       'Invoice Number', 'Item Number', 'Item', 'Line Number', 'List Price',\n",
       "       'Order Number', 'Promised Delivery Date', 'Sales Amount',\n",
       "       'Sales Amount Based on List Price', 'Sales Cost Amount',\n",
       "       'Sales Margin Amount', 'Sales Price', 'Sales Quantity', 'Sales Rep',\n",
       "       'U/M'],\n",
       "      dtype='object')"
      ]
     },
     "execution_count": 201,
     "metadata": {},
     "output_type": "execute_result"
    }
   ],
   "source": [
    "d.columns"
   ]
  },
  {
   "cell_type": "code",
   "execution_count": 202,
   "id": "af4a094a",
   "metadata": {},
   "outputs": [
    {
     "data": {
      "text/plain": [
       "count     65241.000000\n",
       "mean       2853.121051\n",
       "std       15169.020896\n",
       "min         200.010000\n",
       "25%         308.310000\n",
       "50%         553.940000\n",
       "75%        1279.750000\n",
       "max      555376.000000\n",
       "Name: Sales Amount, dtype: float64"
      ]
     },
     "execution_count": 202,
     "metadata": {},
     "output_type": "execute_result"
    }
   ],
   "source": [
    "d['Sales Amount'].describe()"
   ]
  },
  {
   "cell_type": "code",
   "execution_count": 203,
   "id": "02de07aa",
   "metadata": {},
   "outputs": [
    {
     "data": {
      "text/plain": [
       "Index(['CustKey', 'DateKey', 'Discount Amount', 'Invoice Date',\n",
       "       'Invoice Number', 'Item Number', 'Item', 'Line Number', 'List Price',\n",
       "       'Order Number', 'Promised Delivery Date', 'Sales Amount',\n",
       "       'Sales Amount Based on List Price', 'Sales Cost Amount',\n",
       "       'Sales Margin Amount', 'Sales Price', 'Sales Quantity', 'Sales Rep',\n",
       "       'U/M'],\n",
       "      dtype='object')"
      ]
     },
     "execution_count": 203,
     "metadata": {},
     "output_type": "execute_result"
    }
   ],
   "source": [
    "d.columns"
   ]
  },
  {
   "cell_type": "code",
   "execution_count": 204,
   "id": "658a5799",
   "metadata": {},
   "outputs": [
    {
     "data": {
      "text/plain": [
       "count     65241.000000\n",
       "mean       4710.431974\n",
       "std       20702.609533\n",
       "min           0.000000\n",
       "25%         561.040000\n",
       "50%         999.750000\n",
       "75%        2321.400000\n",
       "max      632610.160000\n",
       "Name: Sales Amount Based on List Price, dtype: float64"
      ]
     },
     "execution_count": 204,
     "metadata": {},
     "output_type": "execute_result"
    }
   ],
   "source": [
    "# SALES AMOUNT BASED ON LIST PRICE\n",
    "\n",
    "d['Sales Amount Based on List Price'].describe()"
   ]
  },
  {
   "cell_type": "code",
   "execution_count": 205,
   "id": "92c422df",
   "metadata": {},
   "outputs": [
    {
     "data": {
      "text/plain": [
       "count     65241.000000\n",
       "mean       1662.023052\n",
       "std        9559.396917\n",
       "min           0.000000\n",
       "25%         167.810000\n",
       "50%         304.580000\n",
       "75%         688.550000\n",
       "max      366576.000000\n",
       "Name: Sales Cost Amount, dtype: float64"
      ]
     },
     "execution_count": 205,
     "metadata": {},
     "output_type": "execute_result"
    }
   ],
   "source": [
    "d['Sales Cost Amount'].describe()"
   ]
  },
  {
   "cell_type": "code",
   "execution_count": 206,
   "id": "e54db3c9",
   "metadata": {},
   "outputs": [
    {
     "data": {
      "text/plain": [
       "Index(['CustKey', 'DateKey', 'Discount Amount', 'Invoice Date',\n",
       "       'Invoice Number', 'Item Number', 'Item', 'Line Number', 'List Price',\n",
       "       'Order Number', 'Promised Delivery Date', 'Sales Amount',\n",
       "       'Sales Amount Based on List Price', 'Sales Cost Amount',\n",
       "       'Sales Margin Amount', 'Sales Price', 'Sales Quantity', 'Sales Rep',\n",
       "       'U/M'],\n",
       "      dtype='object')"
      ]
     },
     "execution_count": 206,
     "metadata": {},
     "output_type": "execute_result"
    }
   ],
   "source": [
    "d.columns"
   ]
  },
  {
   "cell_type": "code",
   "execution_count": 207,
   "id": "f4fb8e79",
   "metadata": {},
   "outputs": [
    {
     "data": {
      "text/plain": [
       "count     65241.000000\n",
       "mean       1191.097999\n",
       "std        5862.566647\n",
       "min       -3932.930000\n",
       "25%         129.890000\n",
       "50%         246.480000\n",
       "75%         578.220000\n",
       "max      188800.000000\n",
       "Name: Sales Margin Amount, dtype: float64"
      ]
     },
     "execution_count": 207,
     "metadata": {},
     "output_type": "execute_result"
    }
   ],
   "source": [
    "d['Sales Margin Amount'].describe()"
   ]
  },
  {
   "cell_type": "code",
   "execution_count": 208,
   "id": "9b2c2437",
   "metadata": {},
   "outputs": [
    {
     "data": {
      "text/plain": [
       "count    65241.000000\n",
       "mean       283.250283\n",
       "std        250.448615\n",
       "min          0.337341\n",
       "25%        100.030000\n",
       "50%        183.282857\n",
       "75%        448.220000\n",
       "max       6035.000000\n",
       "Name: Sales Price, dtype: float64"
      ]
     },
     "execution_count": 208,
     "metadata": {},
     "output_type": "execute_result"
    }
   ],
   "source": [
    "d['Sales Price'].describe()"
   ]
  },
  {
   "cell_type": "code",
   "execution_count": 209,
   "id": "8e5a105b",
   "metadata": {},
   "outputs": [
    {
     "data": {
      "text/plain": [
       "Index(['CustKey', 'DateKey', 'Discount Amount', 'Invoice Date',\n",
       "       'Invoice Number', 'Item Number', 'Item', 'Line Number', 'List Price',\n",
       "       'Order Number', 'Promised Delivery Date', 'Sales Amount',\n",
       "       'Sales Amount Based on List Price', 'Sales Cost Amount',\n",
       "       'Sales Margin Amount', 'Sales Price', 'Sales Quantity', 'Sales Rep',\n",
       "       'U/M'],\n",
       "      dtype='object')"
      ]
     },
     "execution_count": 209,
     "metadata": {},
     "output_type": "execute_result"
    }
   ],
   "source": [
    "d.columns"
   ]
  },
  {
   "cell_type": "code",
   "execution_count": 210,
   "id": "36256013",
   "metadata": {},
   "outputs": [
    {
     "data": {
      "image/png": "[encoded data removed]",
      "text/plain": [
       "<Figure size 576x576 with 1 Axes>"
      ]
     },
     "metadata": {
      "needs_background": "light"
     },
     "output_type": "display_data"
    }
   ],
   "source": [
    "s=d['Sales Quantity'].value_counts().head(10)\n",
    "\n",
    "plt.figure(figsize=(8,8))\n",
    "\n",
    "sns.barplot(x=s.index,y=s)\n",
    "\n",
    "plt.xticks(rotation=45)\n",
    "\n",
    "plt.show()"
   ]
  },
  {
   "cell_type": "markdown",
   "id": "0b0af80c",
   "metadata": {},
   "source": [
    "## QUARTERLY SALES"
   ]
  },
  {
   "cell_type": "code",
   "execution_count": 211,
   "id": "f174456c",
   "metadata": {},
   "outputs": [
    {
     "data": {
      "text/html": [
       "<div>\n",
       "<style scoped>\n",
       "    .dataframe tbody tr th:only-of-type {\n",
       "        vertical-align: middle;\n",
       "    }\n",
       "\n",
       "    .dataframe tbody tr th {\n",
       "        vertical-align: top;\n",
       "    }\n",
       "\n",
       "    .dataframe thead th {\n",
       "        text-align: right;\n",
       "    }\n",
       "</style>\n",
       "<table border=\"1\" class=\"dataframe\">\n",
       "  <thead>\n",
       "    <tr style=\"text-align: right;\">\n",
       "      <th></th>\n",
       "      <th>Month</th>\n",
       "      <th>SalesVolume</th>\n",
       "    </tr>\n",
       "  </thead>\n",
       "  <tbody>\n",
       "    <tr>\n",
       "      <th>0</th>\n",
       "      <td>March</td>\n",
       "      <td>2145.0</td>\n",
       "    </tr>\n",
       "    <tr>\n",
       "      <th>1</th>\n",
       "      <td>April</td>\n",
       "      <td>2458.0</td>\n",
       "    </tr>\n",
       "    <tr>\n",
       "      <th>2</th>\n",
       "      <td>May</td>\n",
       "      <td>1245.0</td>\n",
       "    </tr>\n",
       "    <tr>\n",
       "      <th>3</th>\n",
       "      <td>Sales Values in Q2</td>\n",
       "      <td>NaN</td>\n",
       "    </tr>\n",
       "    <tr>\n",
       "      <th>4</th>\n",
       "      <td>June</td>\n",
       "      <td>5124.0</td>\n",
       "    </tr>\n",
       "    <tr>\n",
       "      <th>5</th>\n",
       "      <td>July</td>\n",
       "      <td>7421.0</td>\n",
       "    </tr>\n",
       "    <tr>\n",
       "      <th>6</th>\n",
       "      <td>August</td>\n",
       "      <td>2584.0</td>\n",
       "    </tr>\n",
       "    <tr>\n",
       "      <th>7</th>\n",
       "      <td>Sales Values in Q3</td>\n",
       "      <td>NaN</td>\n",
       "    </tr>\n",
       "    <tr>\n",
       "      <th>8</th>\n",
       "      <td>September</td>\n",
       "      <td>5314.0</td>\n",
       "    </tr>\n",
       "    <tr>\n",
       "      <th>9</th>\n",
       "      <td>October</td>\n",
       "      <td>7846.0</td>\n",
       "    </tr>\n",
       "    <tr>\n",
       "      <th>10</th>\n",
       "      <td>November</td>\n",
       "      <td>6532.0</td>\n",
       "    </tr>\n",
       "    <tr>\n",
       "      <th>11</th>\n",
       "      <td>December</td>\n",
       "      <td>4625.0</td>\n",
       "    </tr>\n",
       "    <tr>\n",
       "      <th>12</th>\n",
       "      <td>January</td>\n",
       "      <td>8547.0</td>\n",
       "    </tr>\n",
       "    <tr>\n",
       "      <th>13</th>\n",
       "      <td>February</td>\n",
       "      <td>3265.0</td>\n",
       "    </tr>\n",
       "  </tbody>\n",
       "</table>\n",
       "</div>"
      ],
      "text/plain": [
       "                 Month  SalesVolume\n",
       "0                March       2145.0\n",
       "1                April       2458.0\n",
       "2                  May       1245.0\n",
       "3   Sales Values in Q2          NaN\n",
       "4                 June       5124.0\n",
       "5                 July       7421.0\n",
       "6               August       2584.0\n",
       "7   Sales Values in Q3          NaN\n",
       "8            September       5314.0\n",
       "9              October       7846.0\n",
       "10            November       6532.0\n",
       "11            December       4625.0\n",
       "12             January       8547.0\n",
       "13            February       3265.0"
      ]
     },
     "execution_count": 211,
     "metadata": {},
     "output_type": "execute_result"
    }
   ],
   "source": [
    "q=pd.read_csv('D:/TASK-1/DATA/Quaterly_Sales.csv')\n",
    "\n",
    "q"
   ]
  },
  {
   "cell_type": "code",
   "execution_count": 212,
   "id": "c41e0c57",
   "metadata": {},
   "outputs": [],
   "source": [
    "#First Quarter\n",
    "q1=q.iloc[:3,:]\n",
    "\n",
    "#Second Quarter\n",
    "q2=q.iloc[4:7,:]\n",
    "\n",
    "#Third Quarter\n",
    "q3=q.iloc[8:11,:]\n",
    "\n",
    "#Fourth Quarter\n",
    "q4=q.iloc[11:14,:]"
   ]
  },
  {
   "cell_type": "code",
   "execution_count": 213,
   "id": "d6c2ce98",
   "metadata": {
    "scrolled": true
   },
   "outputs": [
    {
     "data": {
      "image/png": "[encoded data removed]",
      "text/plain": [
       "<Figure size 720x720 with 1 Axes>"
      ]
     },
     "metadata": {
      "needs_background": "light"
     },
     "output_type": "display_data"
    },
    {
     "data": {
      "image/png": "[encoded data removed]",
      "text/plain": [
       "<Figure size 720x720 with 1 Axes>"
      ]
     },
     "metadata": {
      "needs_background": "light"
     },
     "output_type": "display_data"
    },
    {
     "data": {
      "image/png": "[encoded data removed]",
      "text/plain": [
       "<Figure size 720x720 with 1 Axes>"
      ]
     },
     "metadata": {
      "needs_background": "light"
     },
     "output_type": "display_data"
    },
    {
     "data": {
      "image/png": "[encoded data removed]",
      "text/plain": [
       "<Figure size 720x720 with 1 Axes>"
      ]
     },
     "metadata": {
      "needs_background": "light"
     },
     "output_type": "display_data"
    }
   ],
   "source": [
    "font1={'family':'serif','color':'blue','size':30}\n",
    "\n",
    "\n",
    "plt.figure(figsize=(10,10))\n",
    "\n",
    "plt.subplot(4,1,1)\n",
    "\n",
    "sns.barplot(x='Month',y='SalesVolume',data=q1)\n",
    "\n",
    "sns.lineplot(data=q1,x='Month',y='SalesVolume')\n",
    "\n",
    "plt.title(\"First Quarter\",fontdict=font1)\n",
    "\n",
    "plt.show()\n",
    "\n",
    "\n",
    "\n",
    "\n",
    "plt.figure(figsize=(10,10))\n",
    "\n",
    "plt.subplot(4,1,2)\n",
    "\n",
    "sns.barplot(x='Month',y='SalesVolume',data=q2)\n",
    "\n",
    "sns.lineplot(data=q2,x='Month',y='SalesVolume')\n",
    "\n",
    "plt.title(\"Second Quarter\",fontdict=font1)\n",
    "\n",
    "plt.show()\n",
    "\n",
    "\n",
    "\n",
    "plt.figure(figsize=(10,10))\n",
    "\n",
    "plt.subplot(4,1,3)\n",
    "\n",
    "sns.barplot(x='Month',y='SalesVolume',data=q3)\n",
    "\n",
    "sns.lineplot(data=q3,x='Month',y='SalesVolume')\n",
    "\n",
    "plt.title(\"Third Quarter\",fontdict=font1)\n",
    "\n",
    "plt.show()\n",
    "\n",
    "\n",
    "\n",
    "plt.figure(figsize=(10,10))\n",
    "\n",
    "plt.subplot(4,1,4)\n",
    "\n",
    "sns.barplot(x='Month',y='SalesVolume',data=q4)\n",
    "\n",
    "sns.lineplot(data=q4,x='Month',y='SalesVolume')\n",
    "\n",
    "plt.title(\"Fourth Quarter\",fontdict=font1)\n",
    "\n",
    "plt.show()"
   ]
  },
  {
   "cell_type": "code",
   "execution_count": 214,
   "id": "98e64705",
   "metadata": {},
   "outputs": [
    {
     "data": {
      "text/plain": [
       "Index(['CustKey', 'DateKey', 'Discount Amount', 'Invoice Date',\n",
       "       'Invoice Number', 'Item Number', 'Item', 'Line Number', 'List Price',\n",
       "       'Order Number', 'Promised Delivery Date', 'Sales Amount',\n",
       "       'Sales Amount Based on List Price', 'Sales Cost Amount',\n",
       "       'Sales Margin Amount', 'Sales Price', 'Sales Quantity', 'Sales Rep',\n",
       "       'U/M'],\n",
       "      dtype='object')"
      ]
     },
     "execution_count": 214,
     "metadata": {},
     "output_type": "execute_result"
    }
   ],
   "source": [
    "d.columns"
   ]
  },
  {
   "cell_type": "code",
   "execution_count": 215,
   "id": "346320b3",
   "metadata": {},
   "outputs": [
    {
     "data": {
      "text/plain": [
       "1    2017-07-14\n",
       "2    2017-10-17\n",
       "4    2017-05-27\n",
       "6    2017-03-09\n",
       "7    2017-06-18\n",
       "8    2017-06-18\n",
       "9    2017-06-18\n",
       "10   2017-06-18\n",
       "11   2017-06-18\n",
       "12   2017-09-16\n",
       "Name: DateKey, dtype: datetime64[ns]"
      ]
     },
     "execution_count": 215,
     "metadata": {},
     "output_type": "execute_result"
    }
   ],
   "source": [
    "d['DateKey'].head(10)"
   ]
  },
  {
   "cell_type": "markdown",
   "id": "81632469",
   "metadata": {},
   "source": [
    "## YEARLY SALES"
   ]
  },
  {
   "cell_type": "code",
   "execution_count": 216,
   "id": "41553cd9",
   "metadata": {},
   "outputs": [],
   "source": [
    "d['DateKey'] = pd.to_datetime(d['DateKey'])\n",
    "\n",
    "Sales_2017=int(d[(d['DateKey'] > '2017-01-01') & (d['DateKey'] <= '2018-01-01')]['Sales Quantity'].sum())"
   ]
  },
  {
   "cell_type": "code",
   "execution_count": 217,
   "id": "c194bb07",
   "metadata": {},
   "outputs": [],
   "source": [
    "Sales_2018=int(d[(d['DateKey'] > '2018-01-01') & (d['DateKey'] <= '2018-12-31')]['Sales Quantity'].sum())"
   ]
  },
  {
   "cell_type": "code",
   "execution_count": 218,
   "id": "32a00479",
   "metadata": {},
   "outputs": [
    {
     "name": "stdout",
     "output_type": "stream",
     "text": [
      "1354817 324525\n"
     ]
    }
   ],
   "source": [
    "print(Sales_2017,Sales_2018)"
   ]
  },
  {
   "cell_type": "code",
   "execution_count": 219,
   "id": "4a8b4c0f",
   "metadata": {},
   "outputs": [
    {
     "data": {
      "image/png": "[encoded data removed]",
      "text/plain": [
       "<Figure size 576x576 with 1 Axes>"
      ]
     },
     "metadata": {},
     "output_type": "display_data"
    }
   ],
   "source": [
    "\n",
    "\n",
    "year=['Sales in 2017','Sales in 2018']\n",
    "\n",
    "yearly_sales=[Sales_2017,Sales_2018]\n",
    "\n",
    "plt.figure(figsize=(8,8))\n",
    "\n",
    "\n",
    "plt.pie(x=yearly_sales,labels=year,autopct='%.0f%%')\n",
    "\n",
    "\n",
    "plt.title('Yearly Sales',fontdict=font)\n",
    "\n",
    "\n",
    "plt.show()"
   ]
  },
  {
   "cell_type": "markdown",
   "id": "7d99ce8c",
   "metadata": {},
   "source": [
    "## Monthly Sales in year 2017"
   ]
  },
  {
   "cell_type": "code",
   "execution_count": 220,
   "id": "ef21730e",
   "metadata": {},
   "outputs": [],
   "source": [
    "d['DateKey'] = pd.to_datetime(d['DateKey'])\n",
    "\n",
    "\n",
    "Sales_2017_Jan=int(d[(d['DateKey'] > '2017-01-01') & (d['DateKey'] <= '2017-02-01')]['Sales Quantity'].sum())\n",
    "\n",
    "Sales_2017_Feb=int(d[(d['DateKey'] > '2017-02-01') & (d['DateKey'] <= '2017-03-01')]['Sales Quantity'].sum())\n",
    "\n",
    "Sales_2017_Mar=int(d[(d['DateKey'] > '2017-03-01') & (d['DateKey'] <= '2017-04-01')]['Sales Quantity'].sum())\n",
    "\n",
    "Sales_2017_Apr=int(d[(d['DateKey'] > '2017-04-01') & (d['DateKey'] <= '2017-05-01')]['Sales Quantity'].sum())\n",
    "\n",
    "Sales_2017_May=int(d[(d['DateKey'] > '2017-05-01') & (d['DateKey'] <= '2017-06-01')]['Sales Quantity'].sum())\n",
    "\n",
    "Sales_2017_June=int(d[(d['DateKey'] > '2017-06-01') & (d['DateKey'] <= '2017-07-01')]['Sales Quantity'].sum())\n",
    "\n",
    "Sales_2017_July=int(d[(d['DateKey'] > '2017-07-01') & (d['DateKey'] <= '2017-08-01')]['Sales Quantity'].sum())\n",
    "\n",
    "Sales_2017_Aug=int(d[(d['DateKey'] > '2017-08-01') & (d['DateKey'] <= '2017-09-01')]['Sales Quantity'].sum())\n",
    "\n",
    "Sales_2017_Sept=int(d[(d['DateKey'] > '2017-09-01') & (d['DateKey'] <= '2017-10-01')]['Sales Quantity'].sum())\n",
    "\n",
    "Sales_2017_Oct=int(d[(d['DateKey'] > '2017-10-01') & (d['DateKey'] <= '2017-11-01')]['Sales Quantity'].sum())\n",
    "\n",
    "Sales_2017_Nov=int(d[(d['DateKey'] > '2017-11-01') & (d['DateKey'] <= '2017-12-01')]['Sales Quantity'].sum())\n",
    "\n",
    "Sales_2017_Dec=int(d[(d['DateKey'] > '2017-12-01') & (d['DateKey'] <= '2018-01-01')]['Sales Quantity'].sum())\n",
    "\n",
    "monthly_sales=[Sales_2017_Jan,Sales_2017_Feb,Sales_2017_Mar,Sales_2017_Apr,Sales_2017_May,Sales_2017_June,Sales_2017_July,\n",
    "              Sales_2017_Aug,Sales_2017_Sept,Sales_2017_Oct,Sales_2017_Nov,Sales_2017_Dec]\n",
    "\n",
    "months=['January','Febraury','March','April','May','June','July','August','September','October','November','December']"
   ]
  },
  {
   "cell_type": "code",
   "execution_count": 221,
   "id": "22f83495",
   "metadata": {},
   "outputs": [
    {
     "data": {
      "image/png": "[encoded data removed]",
      "text/plain": [
       "<Figure size 576x576 with 1 Axes>"
      ]
     },
     "metadata": {
      "needs_background": "light"
     },
     "output_type": "display_data"
    }
   ],
   "source": [
    "plt.figure(figsize=(8,8))\n",
    "\n",
    "sns.barplot(x=months,y=monthly_sales)\n",
    "\n",
    "sns.lineplot(x=months,y=monthly_sales)\n",
    "\n",
    "plt.xticks(rotation=45)\n",
    "\n",
    "plt.title(\"Monthly Sales of 2017\",fontdict={'family':'serif','color':'blue','size':30})\n",
    "\n",
    "plt.show()"
   ]
  },
  {
   "cell_type": "code",
   "execution_count": 222,
   "id": "ebe7e940",
   "metadata": {},
   "outputs": [],
   "source": [
    "d['DateKey'] = pd.to_datetime(d['DateKey'])\n",
    "\n",
    "\n",
    "Sales_2018_Jan=int(d[(d['DateKey'] > '2018-01-01') & (d['DateKey'] <= '2018-02-01')]['Sales Quantity'].sum())\n",
    "\n",
    "Sales_2018_Feb=int(d[(d['DateKey'] > '2018-02-01') & (d['DateKey'] <= '2018-03-01')]['Sales Quantity'].sum())\n",
    "\n",
    "Sales_2018_Mar=int(d[(d['DateKey'] > '2018-03-01') & (d['DateKey'] <= '2018-04-01')]['Sales Quantity'].sum())\n",
    "\n",
    "Sales_2018_Apr=int(d[(d['DateKey'] > '2018-04-01') & (d['DateKey'] <= '2018-05-01')]['Sales Quantity'].sum())\n",
    "\n",
    "Sales_2018_May=int(d[(d['DateKey'] > '2018-05-01') & (d['DateKey'] <= '2018-06-01')]['Sales Quantity'].sum())\n",
    "\n",
    "Sales_2018_June=int(d[(d['DateKey'] > '2018-06-01') & (d['DateKey'] <= '2018-07-01')]['Sales Quantity'].sum())\n",
    "\n",
    "Sales_2018_July=int(d[(d['DateKey'] > '2018-07-01') & (d['DateKey'] <= '2018-08-01')]['Sales Quantity'].sum())\n",
    "\n",
    "Sales_2018_Aug=int(d[(d['DateKey'] > '2018-08-01') & (d['DateKey'] <= '2018-09-01')]['Sales Quantity'].sum())\n",
    "\n",
    "Sales_2018_Sept=int(d[(d['DateKey'] > '2018-09-01') & (d['DateKey'] <= '2018-10-01')]['Sales Quantity'].sum())\n",
    "\n",
    "Sales_2018_Oct=int(d[(d['DateKey'] > '2018-10-01') & (d['DateKey'] <= '2018-11-01')]['Sales Quantity'].sum())\n",
    "\n",
    "Sales_2018_Nov=int(d[(d['DateKey'] > '2018-11-01') & (d['DateKey'] <= '2018-12-01')]['Sales Quantity'].sum())\n",
    "\n",
    "Sales_2018_Dec=int(d[(d['DateKey'] > '2018-12-01') & (d['DateKey'] <= '2018-12-31')]['Sales Quantity'].sum())\n",
    "\n",
    "monthly_sales=[Sales_2018_Jan,Sales_2018_Feb,Sales_2018_Mar,Sales_2018_Apr,Sales_2018_May,Sales_2018_June,Sales_2018_July,\n",
    "              Sales_2018_Aug,Sales_2018_Sept,Sales_2018_Oct,Sales_2018_Nov,Sales_2018_Dec]\n",
    "\n",
    "months=['January','Febraury','March','April','May','June','July','August','September','October','November','December']"
   ]
  },
  {
   "cell_type": "code",
   "execution_count": 223,
   "id": "456f5dab",
   "metadata": {},
   "outputs": [
    {
     "data": {
      "image/png": "[encoded data removed]",
      "text/plain": [
       "<Figure size 576x576 with 1 Axes>"
      ]
     },
     "metadata": {
      "needs_background": "light"
     },
     "output_type": "display_data"
    }
   ],
   "source": [
    "plt.figure(figsize=(8,8))\n",
    "\n",
    "sns.barplot(x=months,y=monthly_sales)\n",
    "\n",
    "sns.lineplot(x=months,y=monthly_sales)\n",
    "\n",
    "plt.xticks(rotation=45)\n",
    "\n",
    "plt.title(\"Monthly Sales of 2018\",fontdict={'family':'serif','color':'purple','size':30})\n",
    "\n",
    "plt.show()"
   ]
  },
  {
   "cell_type": "code",
   "execution_count": null,
   "id": "7dba2279",
   "metadata": {},
   "outputs": [],
   "source": []
  },
  {
   "cell_type": "code",
   "execution_count": null,
   "id": "eebf9ec1",
   "metadata": {},
   "outputs": [],
   "source": []
  },
  {
   "cell_type": "code",
   "execution_count": null,
   "id": "3505b1d7",
   "metadata": {},
   "outputs": [],
   "source": []
  }
 ],
 "metadata": {
  "kernelspec": {
   "display_name": "Python 3",
   "language": "python",
   "name": "python3"
  },
  "language_info": {
   "codemirror_mode": {
    "name": "ipython",
    "version": 3
   },
   "file_extension": ".py",
   "mimetype": "text/x-python",
   "name": "python",
   "nbconvert_exporter": "python",
   "pygments_lexer": "ipython3",
   "version": "3.9.5"
  }
 },
 "nbformat": 4,
 "nbformat_minor": 5
}
